{
 "cells": [
  {
   "cell_type": "code",
   "execution_count": 1,
   "metadata": {},
   "outputs": [],
   "source": [
    "import numpy as np\n",
    "import pandas as pd\n",
    "import matplotlib.pyplot as plt\n",
    "%matplotlib inline\n",
    "from IPython.display import display\n",
    "plt.rc('font', family='Verdana')"
   ]
  },
  {
   "cell_type": "code",
   "execution_count": 2,
   "metadata": {
    "scrolled": true
   },
   "outputs": [
    {
     "data": {
      "text/html": [
       "<div>\n",
       "<style scoped>\n",
       "    .dataframe tbody tr th:only-of-type {\n",
       "        vertical-align: middle;\n",
       "    }\n",
       "\n",
       "    .dataframe tbody tr th {\n",
       "        vertical-align: top;\n",
       "    }\n",
       "\n",
       "    .dataframe thead th {\n",
       "        text-align: right;\n",
       "    }\n",
       "</style>\n",
       "<table border=\"1\" class=\"dataframe\">\n",
       "  <thead>\n",
       "    <tr style=\"text-align: right;\">\n",
       "      <th></th>\n",
       "      <th>longdist</th>\n",
       "      <th>internat</th>\n",
       "      <th>local</th>\n",
       "      <th>int_disc</th>\n",
       "      <th>billtype</th>\n",
       "      <th>pay</th>\n",
       "      <th>age</th>\n",
       "      <th>gender</th>\n",
       "      <th>marital</th>\n",
       "      <th>children</th>\n",
       "      <th>income</th>\n",
       "      <th>churn</th>\n",
       "    </tr>\n",
       "  </thead>\n",
       "  <tbody>\n",
       "    <tr>\n",
       "      <th>0</th>\n",
       "      <td>27,09</td>\n",
       "      <td>0</td>\n",
       "      <td>39,74</td>\n",
       "      <td>Нет</td>\n",
       "      <td>Бюджетный</td>\n",
       "      <td>CC</td>\n",
       "      <td>35.0</td>\n",
       "      <td>Женский</td>\n",
       "      <td>Женат</td>\n",
       "      <td>0.0</td>\n",
       "      <td>77680</td>\n",
       "      <td>Остается</td>\n",
       "    </tr>\n",
       "    <tr>\n",
       "      <th>1</th>\n",
       "      <td>NaN</td>\n",
       "      <td>0</td>\n",
       "      <td>46,31</td>\n",
       "      <td>Нет</td>\n",
       "      <td>NaN</td>\n",
       "      <td>NaN</td>\n",
       "      <td>53.0</td>\n",
       "      <td>Мужской</td>\n",
       "      <td>Одинокий</td>\n",
       "      <td>1.0</td>\n",
       "      <td>37111,5</td>\n",
       "      <td>Остается</td>\n",
       "    </tr>\n",
       "    <tr>\n",
       "      <th>2</th>\n",
       "      <td>23,76</td>\n",
       "      <td>0</td>\n",
       "      <td>NaN</td>\n",
       "      <td>NaN</td>\n",
       "      <td>Бюджетный</td>\n",
       "      <td>Auto</td>\n",
       "      <td>NaN</td>\n",
       "      <td>Женский</td>\n",
       "      <td>NaN</td>\n",
       "      <td>1.0</td>\n",
       "      <td>37079,4</td>\n",
       "      <td>Остается</td>\n",
       "    </tr>\n",
       "    <tr>\n",
       "      <th>3</th>\n",
       "      <td>9,4</td>\n",
       "      <td>NaN</td>\n",
       "      <td>13,9</td>\n",
       "      <td>Нет</td>\n",
       "      <td>NaN</td>\n",
       "      <td>CH</td>\n",
       "      <td>NaN</td>\n",
       "      <td>Мужской</td>\n",
       "      <td>Одинокий</td>\n",
       "      <td>NaN</td>\n",
       "      <td>81997</td>\n",
       "      <td>Остается</td>\n",
       "    </tr>\n",
       "    <tr>\n",
       "      <th>4</th>\n",
       "      <td>14,15</td>\n",
       "      <td>0</td>\n",
       "      <td>108,43</td>\n",
       "      <td>Да</td>\n",
       "      <td>Бесплатный</td>\n",
       "      <td>Auto</td>\n",
       "      <td>39.0</td>\n",
       "      <td>Женский</td>\n",
       "      <td>Одинокий</td>\n",
       "      <td>0.0</td>\n",
       "      <td>16829,6</td>\n",
       "      <td>Остается</td>\n",
       "    </tr>\n",
       "  </tbody>\n",
       "</table>\n",
       "</div>"
      ],
      "text/plain": [
       "  longdist internat   local int_disc    billtype   pay   age   gender  \\\n",
       "0    27,09        0   39,74      Нет   Бюджетный    CC  35.0  Женский   \n",
       "1      NaN        0   46,31      Нет         NaN   NaN  53.0  Мужской   \n",
       "2    23,76        0     NaN      NaN   Бюджетный  Auto   NaN  Женский   \n",
       "3      9,4      NaN    13,9      Нет         NaN    CH   NaN  Мужской   \n",
       "4    14,15        0  108,43       Да  Бесплатный  Auto  39.0  Женский   \n",
       "\n",
       "    marital  children   income     churn  \n",
       "0     Женат       0.0    77680  Остается  \n",
       "1  Одинокий       1.0  37111,5  Остается  \n",
       "2       NaN       1.0  37079,4  Остается  \n",
       "3  Одинокий       NaN    81997  Остается  \n",
       "4  Одинокий       0.0  16829,6  Остается  "
      ]
     },
     "execution_count": 2,
     "metadata": {},
     "output_type": "execute_result"
    }
   ],
   "source": [
    "data = pd.read_csv(\"C:/Users/hafizovag/Desktop/Regr.csv\", encoding='cp1251', sep=';')\n",
    "data.head()"
   ]
  },
  {
   "cell_type": "code",
   "execution_count": 3,
   "metadata": {},
   "outputs": [
    {
     "name": "stdout",
     "output_type": "stream",
     "text": [
      "<class 'pandas.core.frame.DataFrame'>\n",
      "RangeIndex: 4431 entries, 0 to 4430\n",
      "Data columns (total 12 columns):\n",
      "longdist    4430 non-null object\n",
      "internat    4427 non-null object\n",
      "local       4428 non-null object\n",
      "int_disc    4430 non-null object\n",
      "billtype    4427 non-null object\n",
      "pay         4429 non-null object\n",
      "age         4428 non-null float64\n",
      "gender      4430 non-null object\n",
      "marital     4427 non-null object\n",
      "children    4430 non-null float64\n",
      "income      4430 non-null object\n",
      "churn       4431 non-null object\n",
      "dtypes: float64(2), object(10)\n",
      "memory usage: 415.5+ KB\n"
     ]
    }
   ],
   "source": [
    "data.info()"
   ]
  },
  {
   "cell_type": "code",
   "execution_count": 4,
   "metadata": {},
   "outputs": [],
   "source": [
    "for i in ['longdist', 'local']:\n",
    "    if i in data.columns:\n",
    "        data[i]=data[i].str.replace(',', '.').astype('float')"
   ]
  },
  {
   "cell_type": "code",
   "execution_count": 5,
   "metadata": {},
   "outputs": [
    {
     "data": {
      "text/html": [
       "<div>\n",
       "<style scoped>\n",
       "    .dataframe tbody tr th:only-of-type {\n",
       "        vertical-align: middle;\n",
       "    }\n",
       "\n",
       "    .dataframe tbody tr th {\n",
       "        vertical-align: top;\n",
       "    }\n",
       "\n",
       "    .dataframe thead th {\n",
       "        text-align: right;\n",
       "    }\n",
       "</style>\n",
       "<table border=\"1\" class=\"dataframe\">\n",
       "  <thead>\n",
       "    <tr style=\"text-align: right;\">\n",
       "      <th></th>\n",
       "      <th>longdist</th>\n",
       "      <th>internat</th>\n",
       "      <th>local</th>\n",
       "      <th>int_disc</th>\n",
       "      <th>billtype</th>\n",
       "      <th>pay</th>\n",
       "      <th>age</th>\n",
       "      <th>gender</th>\n",
       "      <th>marital</th>\n",
       "      <th>children</th>\n",
       "      <th>income</th>\n",
       "      <th>churn</th>\n",
       "    </tr>\n",
       "  </thead>\n",
       "  <tbody>\n",
       "    <tr>\n",
       "      <th>0</th>\n",
       "      <td>27.09</td>\n",
       "      <td>0</td>\n",
       "      <td>39.74</td>\n",
       "      <td>Нет</td>\n",
       "      <td>Бюджетный</td>\n",
       "      <td>CC</td>\n",
       "      <td>35.0</td>\n",
       "      <td>Женский</td>\n",
       "      <td>Женат</td>\n",
       "      <td>0.0</td>\n",
       "      <td>77680</td>\n",
       "      <td>Остается</td>\n",
       "    </tr>\n",
       "    <tr>\n",
       "      <th>1</th>\n",
       "      <td>NaN</td>\n",
       "      <td>0</td>\n",
       "      <td>46.31</td>\n",
       "      <td>Нет</td>\n",
       "      <td>NaN</td>\n",
       "      <td>NaN</td>\n",
       "      <td>53.0</td>\n",
       "      <td>Мужской</td>\n",
       "      <td>Одинокий</td>\n",
       "      <td>1.0</td>\n",
       "      <td>37111,5</td>\n",
       "      <td>Остается</td>\n",
       "    </tr>\n",
       "    <tr>\n",
       "      <th>2</th>\n",
       "      <td>23.76</td>\n",
       "      <td>0</td>\n",
       "      <td>NaN</td>\n",
       "      <td>NaN</td>\n",
       "      <td>Бюджетный</td>\n",
       "      <td>Auto</td>\n",
       "      <td>NaN</td>\n",
       "      <td>Женский</td>\n",
       "      <td>NaN</td>\n",
       "      <td>1.0</td>\n",
       "      <td>37079,4</td>\n",
       "      <td>Остается</td>\n",
       "    </tr>\n",
       "    <tr>\n",
       "      <th>3</th>\n",
       "      <td>9.40</td>\n",
       "      <td>NaN</td>\n",
       "      <td>13.90</td>\n",
       "      <td>Нет</td>\n",
       "      <td>NaN</td>\n",
       "      <td>CH</td>\n",
       "      <td>NaN</td>\n",
       "      <td>Мужской</td>\n",
       "      <td>Одинокий</td>\n",
       "      <td>NaN</td>\n",
       "      <td>81997</td>\n",
       "      <td>Остается</td>\n",
       "    </tr>\n",
       "    <tr>\n",
       "      <th>4</th>\n",
       "      <td>14.15</td>\n",
       "      <td>0</td>\n",
       "      <td>108.43</td>\n",
       "      <td>Да</td>\n",
       "      <td>Бесплатный</td>\n",
       "      <td>Auto</td>\n",
       "      <td>39.0</td>\n",
       "      <td>Женский</td>\n",
       "      <td>Одинокий</td>\n",
       "      <td>0.0</td>\n",
       "      <td>16829,6</td>\n",
       "      <td>Остается</td>\n",
       "    </tr>\n",
       "  </tbody>\n",
       "</table>\n",
       "</div>"
      ],
      "text/plain": [
       "   longdist internat   local int_disc    billtype   pay   age   gender  \\\n",
       "0     27.09        0   39.74      Нет   Бюджетный    CC  35.0  Женский   \n",
       "1       NaN        0   46.31      Нет         NaN   NaN  53.0  Мужской   \n",
       "2     23.76        0     NaN      NaN   Бюджетный  Auto   NaN  Женский   \n",
       "3      9.40      NaN   13.90      Нет         NaN    CH   NaN  Мужской   \n",
       "4     14.15        0  108.43       Да  Бесплатный  Auto  39.0  Женский   \n",
       "\n",
       "    marital  children   income     churn  \n",
       "0     Женат       0.0    77680  Остается  \n",
       "1  Одинокий       1.0  37111,5  Остается  \n",
       "2       NaN       1.0  37079,4  Остается  \n",
       "3  Одинокий       NaN    81997  Остается  \n",
       "4  Одинокий       0.0  16829,6  Остается  "
      ]
     },
     "execution_count": 5,
     "metadata": {},
     "output_type": "execute_result"
    }
   ],
   "source": [
    "data.head()"
   ]
  },
  {
   "cell_type": "code",
   "execution_count": 6,
   "metadata": {},
   "outputs": [
    {
     "name": "stdout",
     "output_type": "stream",
     "text": [
      "<class 'pandas.core.frame.DataFrame'>\n",
      "RangeIndex: 4431 entries, 0 to 4430\n",
      "Data columns (total 12 columns):\n",
      "longdist    4430 non-null float64\n",
      "internat    4427 non-null object\n",
      "local       4428 non-null float64\n",
      "int_disc    4430 non-null object\n",
      "billtype    4427 non-null object\n",
      "pay         4429 non-null object\n",
      "age         4428 non-null float64\n",
      "gender      4430 non-null object\n",
      "marital     4427 non-null object\n",
      "children    4430 non-null float64\n",
      "income      4430 non-null object\n",
      "churn       4431 non-null object\n",
      "dtypes: float64(4), object(8)\n",
      "memory usage: 415.5+ KB\n"
     ]
    }
   ],
   "source": [
    "data.info()"
   ]
  },
  {
   "cell_type": "code",
   "execution_count": 7,
   "metadata": {},
   "outputs": [],
   "source": [
    "data['income']=data['income'].str.replace(',', '.').astype('float')"
   ]
  },
  {
   "cell_type": "code",
   "execution_count": 8,
   "metadata": {},
   "outputs": [],
   "source": [
    "data['internat']=data['internat'].str.replace(',', '.').astype('float')"
   ]
  },
  {
   "cell_type": "code",
   "execution_count": 9,
   "metadata": {},
   "outputs": [
    {
     "name": "stdout",
     "output_type": "stream",
     "text": [
      "<class 'pandas.core.frame.DataFrame'>\n",
      "RangeIndex: 4431 entries, 0 to 4430\n",
      "Data columns (total 12 columns):\n",
      "longdist    4430 non-null float64\n",
      "internat    4427 non-null float64\n",
      "local       4428 non-null float64\n",
      "int_disc    4430 non-null object\n",
      "billtype    4427 non-null object\n",
      "pay         4429 non-null object\n",
      "age         4428 non-null float64\n",
      "gender      4430 non-null object\n",
      "marital     4427 non-null object\n",
      "children    4430 non-null float64\n",
      "income      4430 non-null float64\n",
      "churn       4431 non-null object\n",
      "dtypes: float64(6), object(6)\n",
      "memory usage: 415.5+ KB\n"
     ]
    }
   ],
   "source": [
    "data.info()"
   ]
  },
  {
   "cell_type": "code",
   "execution_count": 10,
   "metadata": {},
   "outputs": [
    {
     "data": {
      "text/plain": [
       "longdist    1\n",
       "internat    4\n",
       "local       3\n",
       "int_disc    1\n",
       "billtype    4\n",
       "pay         2\n",
       "age         3\n",
       "gender      1\n",
       "marital     4\n",
       "children    1\n",
       "income      1\n",
       "churn       0\n",
       "dtype: int64"
      ]
     },
     "execution_count": 10,
     "metadata": {},
     "output_type": "execute_result"
    }
   ],
   "source": [
    "data.isnull().sum() #пропуски будут заполнены после разбиения на обучающую и тестовую"
   ]
  },
  {
   "cell_type": "code",
   "execution_count": 11,
   "metadata": {},
   "outputs": [
    {
     "data": {
      "text/html": [
       "<div>\n",
       "<style scoped>\n",
       "    .dataframe tbody tr th:only-of-type {\n",
       "        vertical-align: middle;\n",
       "    }\n",
       "\n",
       "    .dataframe tbody tr th {\n",
       "        vertical-align: top;\n",
       "    }\n",
       "\n",
       "    .dataframe thead th {\n",
       "        text-align: right;\n",
       "    }\n",
       "</style>\n",
       "<table border=\"1\" class=\"dataframe\">\n",
       "  <thead>\n",
       "    <tr style=\"text-align: right;\">\n",
       "      <th></th>\n",
       "      <th>int_disc</th>\n",
       "      <th>billtype</th>\n",
       "      <th>pay</th>\n",
       "      <th>gender</th>\n",
       "      <th>marital</th>\n",
       "      <th>churn</th>\n",
       "    </tr>\n",
       "  </thead>\n",
       "  <tbody>\n",
       "    <tr>\n",
       "      <th>count</th>\n",
       "      <td>4430</td>\n",
       "      <td>4427</td>\n",
       "      <td>4429</td>\n",
       "      <td>4430</td>\n",
       "      <td>4427</td>\n",
       "      <td>4431</td>\n",
       "    </tr>\n",
       "    <tr>\n",
       "      <th>unique</th>\n",
       "      <td>2</td>\n",
       "      <td>2</td>\n",
       "      <td>4</td>\n",
       "      <td>2</td>\n",
       "      <td>2</td>\n",
       "      <td>2</td>\n",
       "    </tr>\n",
       "    <tr>\n",
       "      <th>top</th>\n",
       "      <td>Нет</td>\n",
       "      <td>Бюджетный</td>\n",
       "      <td>CC</td>\n",
       "      <td>Женский</td>\n",
       "      <td>Женат</td>\n",
       "      <td>Остается</td>\n",
       "    </tr>\n",
       "    <tr>\n",
       "      <th>freq</th>\n",
       "      <td>3054</td>\n",
       "      <td>2244</td>\n",
       "      <td>2561</td>\n",
       "      <td>2244</td>\n",
       "      <td>2625</td>\n",
       "      <td>2496</td>\n",
       "    </tr>\n",
       "  </tbody>\n",
       "</table>\n",
       "</div>"
      ],
      "text/plain": [
       "       int_disc   billtype   pay   gender marital     churn\n",
       "count      4430       4427  4429     4430    4427      4431\n",
       "unique        2          2     4        2       2         2\n",
       "top         Нет  Бюджетный    CC  Женский   Женат  Остается\n",
       "freq       3054       2244  2561     2244    2625      2496"
      ]
     },
     "execution_count": 11,
     "metadata": {},
     "output_type": "execute_result"
    }
   ],
   "source": [
    "categorical_columns = [c for c in data.columns if data[c].dtype.name == 'object']   #Поиск редких категорий\n",
    "data[categorical_columns].describe()"
   ]
  },
  {
   "cell_type": "code",
   "execution_count": 12,
   "metadata": {},
   "outputs": [
    {
     "name": "stdout",
     "output_type": "stream",
     "text": [
      "Нет    3054\n",
      "Да     1376\n",
      "NaN       1\n",
      "Name: int_disc, dtype: int64\n",
      "Бюджетный     2244\n",
      "Бесплатный    2183\n",
      "NaN              4\n",
      "Name: billtype, dtype: int64\n",
      "CC      2561\n",
      "CH       977\n",
      "Auto     889\n",
      "CD         2\n",
      "NaN        2\n",
      "Name: pay, dtype: int64\n",
      "Женский    2244\n",
      "Мужской    2186\n",
      "NaN           1\n",
      "Name: gender, dtype: int64\n",
      "Женат       2625\n",
      "Одинокий    1802\n",
      "NaN            4\n",
      "Name: marital, dtype: int64\n",
      "Остается    2496\n",
      "Уходит      1935\n",
      "Name: churn, dtype: int64\n"
     ]
    }
   ],
   "source": [
    "categorical_columns = [c for c in data.columns if data[c].dtype.name == 'object']      # Редкая категория CD,\n",
    "for c in categorical_columns:                                                          # заменим её модой по параметру billtype,\n",
    "    print(data[c].value_counts(dropna=False))                                          # т.к. скорее всего это ошибка ввода"
   ]
  },
  {
   "cell_type": "code",
   "execution_count": 13,
   "metadata": {},
   "outputs": [],
   "source": [
    "data.at[data['pay'] == 'CD', 'pay'] = 'CC'                            #заменяем параметр"
   ]
  },
  {
   "cell_type": "code",
   "execution_count": 14,
   "metadata": {},
   "outputs": [
    {
     "data": {
      "text/plain": [
       "CC      2563\n",
       "CH       977\n",
       "Auto     889\n",
       "NaN        2\n",
       "Name: pay, dtype: int64"
      ]
     },
     "execution_count": 14,
     "metadata": {},
     "output_type": "execute_result"
    }
   ],
   "source": [
    "data['pay'].value_counts(dropna=False)                                #проверяем, что все OK"
   ]
  },
  {
   "cell_type": "code",
   "execution_count": 15,
   "metadata": {},
   "outputs": [],
   "source": [
    "train=data.sample(frac=0.7,random_state=200)                          #разбиваем данные на обучающую и контрольную выборки\n",
    "test=data.drop(train.index)                                           #т.к. пропуски выделять в отдельные категории не требуется"
   ]
  },
  {
   "cell_type": "code",
   "execution_count": 16,
   "metadata": {},
   "outputs": [
    {
     "data": {
      "text/plain": [
       "longdist    1\n",
       "internat    4\n",
       "local       2\n",
       "int_disc    0\n",
       "billtype    4\n",
       "pay         2\n",
       "age         2\n",
       "gender      1\n",
       "marital     3\n",
       "children    1\n",
       "income      1\n",
       "churn       0\n",
       "dtype: int64"
      ]
     },
     "execution_count": 16,
     "metadata": {},
     "output_type": "execute_result"
    }
   ],
   "source": [
    "train.isnull().sum()"
   ]
  },
  {
   "cell_type": "code",
   "execution_count": 17,
   "metadata": {},
   "outputs": [
    {
     "data": {
      "text/plain": [
       "longdist    0\n",
       "internat    0\n",
       "local       1\n",
       "int_disc    1\n",
       "billtype    0\n",
       "pay         0\n",
       "age         1\n",
       "gender      0\n",
       "marital     1\n",
       "children    0\n",
       "income      0\n",
       "churn       0\n",
       "dtype: int64"
      ]
     },
     "execution_count": 17,
     "metadata": {},
     "output_type": "execute_result"
    }
   ],
   "source": [
    "test.isnull().sum()"
   ]
  },
  {
   "cell_type": "code",
   "execution_count": 18,
   "metadata": {},
   "outputs": [],
   "source": [
    "for i in ['longdist', 'local', 'age', 'income']:\n",
    "    if i in train.columns:\n",
    "        train[i].fillna(train[i].median(), inplace=True)"
   ]
  },
  {
   "cell_type": "code",
   "execution_count": 19,
   "metadata": {},
   "outputs": [],
   "source": [
    "for i in ['longdist', 'local', 'age', 'income']:\n",
    "    if i in test.columns:\n",
    "        test[i].fillna(train[i].median(), inplace=True)"
   ]
  },
  {
   "cell_type": "code",
   "execution_count": 20,
   "metadata": {},
   "outputs": [],
   "source": [
    "train['internat'] = train['internat'].fillna('0').astype(float)   # в случае международных звонов правильно будет заполнить именно модой"
   ]
  },
  {
   "cell_type": "code",
   "execution_count": 21,
   "metadata": {},
   "outputs": [
    {
     "data": {
      "text/plain": [
       "longdist    0\n",
       "internat    0\n",
       "local       0\n",
       "int_disc    0\n",
       "billtype    4\n",
       "pay         2\n",
       "age         0\n",
       "gender      1\n",
       "marital     3\n",
       "children    1\n",
       "income      0\n",
       "churn       0\n",
       "dtype: int64"
      ]
     },
     "execution_count": 21,
     "metadata": {},
     "output_type": "execute_result"
    }
   ],
   "source": [
    "train.isnull().sum()"
   ]
  },
  {
   "cell_type": "code",
   "execution_count": 22,
   "metadata": {},
   "outputs": [
    {
     "data": {
      "text/plain": [
       "longdist    0\n",
       "internat    0\n",
       "local       0\n",
       "int_disc    1\n",
       "billtype    0\n",
       "pay         0\n",
       "age         0\n",
       "gender      0\n",
       "marital     1\n",
       "children    0\n",
       "income      0\n",
       "churn       0\n",
       "dtype: int64"
      ]
     },
     "execution_count": 22,
     "metadata": {},
     "output_type": "execute_result"
    }
   ],
   "source": [
    "test.isnull().sum()"
   ]
  },
  {
   "cell_type": "code",
   "execution_count": 23,
   "metadata": {},
   "outputs": [
    {
     "data": {
      "text/plain": [
       "0    Нет\n",
       "dtype: object"
      ]
     },
     "execution_count": 23,
     "metadata": {},
     "output_type": "execute_result"
    }
   ],
   "source": [
    "test['int_disc'].mode()                                 #определяем моду"
   ]
  },
  {
   "cell_type": "code",
   "execution_count": 24,
   "metadata": {},
   "outputs": [],
   "source": [
    "test['int_disc'] = test['int_disc'].fillna('Нет')    #заполняем значения Модой"
   ]
  },
  {
   "cell_type": "code",
   "execution_count": 25,
   "metadata": {},
   "outputs": [
    {
     "data": {
      "text/plain": [
       "0    Женат\n",
       "dtype: object"
      ]
     },
     "execution_count": 25,
     "metadata": {},
     "output_type": "execute_result"
    }
   ],
   "source": [
    "test['marital'].mode()"
   ]
  },
  {
   "cell_type": "code",
   "execution_count": 26,
   "metadata": {},
   "outputs": [],
   "source": [
    "test['marital'] = test['marital'].fillna('Женат')"
   ]
  },
  {
   "cell_type": "code",
   "execution_count": 27,
   "metadata": {},
   "outputs": [
    {
     "data": {
      "text/plain": [
       "0    Женат\n",
       "dtype: object"
      ]
     },
     "execution_count": 27,
     "metadata": {},
     "output_type": "execute_result"
    }
   ],
   "source": [
    "train['marital'].mode()"
   ]
  },
  {
   "cell_type": "code",
   "execution_count": 28,
   "metadata": {},
   "outputs": [],
   "source": [
    "train['marital'] = train['marital'].fillna('Женат')"
   ]
  },
  {
   "cell_type": "code",
   "execution_count": 29,
   "metadata": {},
   "outputs": [
    {
     "data": {
      "text/plain": [
       "0    Бюджетный\n",
       "dtype: object"
      ]
     },
     "execution_count": 29,
     "metadata": {},
     "output_type": "execute_result"
    }
   ],
   "source": [
    "train['billtype'].mode()"
   ]
  },
  {
   "cell_type": "code",
   "execution_count": 30,
   "metadata": {},
   "outputs": [],
   "source": [
    "train['billtype'] = train['billtype'].fillna('Бюджетный')"
   ]
  },
  {
   "cell_type": "code",
   "execution_count": 31,
   "metadata": {},
   "outputs": [
    {
     "data": {
      "text/plain": [
       "0    CC\n",
       "dtype: object"
      ]
     },
     "execution_count": 31,
     "metadata": {},
     "output_type": "execute_result"
    }
   ],
   "source": [
    "train['pay'].mode()"
   ]
  },
  {
   "cell_type": "code",
   "execution_count": 32,
   "metadata": {},
   "outputs": [],
   "source": [
    "train['pay'] = train['pay'].fillna('CC')"
   ]
  },
  {
   "cell_type": "code",
   "execution_count": 33,
   "metadata": {},
   "outputs": [
    {
     "data": {
      "text/plain": [
       "0    Мужской\n",
       "dtype: object"
      ]
     },
     "execution_count": 33,
     "metadata": {},
     "output_type": "execute_result"
    }
   ],
   "source": [
    "train['gender'].mode()"
   ]
  },
  {
   "cell_type": "code",
   "execution_count": 34,
   "metadata": {},
   "outputs": [],
   "source": [
    "train['gender'] = train['gender'].fillna('Мужской')"
   ]
  },
  {
   "cell_type": "code",
   "execution_count": 35,
   "metadata": {},
   "outputs": [
    {
     "data": {
      "text/plain": [
       "0    0.0\n",
       "dtype: float64"
      ]
     },
     "execution_count": 35,
     "metadata": {},
     "output_type": "execute_result"
    }
   ],
   "source": [
    "train['children'].mode()"
   ]
  },
  {
   "cell_type": "code",
   "execution_count": 36,
   "metadata": {},
   "outputs": [],
   "source": [
    "train['children'] = train['children'].fillna('0')"
   ]
  },
  {
   "cell_type": "code",
   "execution_count": 37,
   "metadata": {},
   "outputs": [
    {
     "name": "stdout",
     "output_type": "stream",
     "text": [
      "0.0    1067\n",
      "2.0    1053\n",
      "1.0     981\n",
      "0         1\n",
      "Name: children, dtype: int64\n"
     ]
    }
   ],
   "source": [
    "print(train['children'].value_counts(dropna=False))"
   ]
  },
  {
   "cell_type": "code",
   "execution_count": 38,
   "metadata": {},
   "outputs": [
    {
     "data": {
      "text/plain": [
       "longdist    0\n",
       "internat    0\n",
       "local       0\n",
       "int_disc    0\n",
       "billtype    0\n",
       "pay         0\n",
       "age         0\n",
       "gender      0\n",
       "marital     0\n",
       "children    0\n",
       "income      0\n",
       "churn       0\n",
       "dtype: int64"
      ]
     },
     "execution_count": 38,
     "metadata": {},
     "output_type": "execute_result"
    }
   ],
   "source": [
    "train.isnull().sum()"
   ]
  },
  {
   "cell_type": "code",
   "execution_count": 39,
   "metadata": {},
   "outputs": [
    {
     "data": {
      "text/plain": [
       "longdist    0\n",
       "internat    0\n",
       "local       0\n",
       "int_disc    0\n",
       "billtype    0\n",
       "pay         0\n",
       "age         0\n",
       "gender      0\n",
       "marital     0\n",
       "children    0\n",
       "income      0\n",
       "churn       0\n",
       "dtype: int64"
      ]
     },
     "execution_count": 39,
     "metadata": {},
     "output_type": "execute_result"
    }
   ],
   "source": [
    "test.isnull().sum()"
   ]
  },
  {
   "cell_type": "code",
   "execution_count": 40,
   "metadata": {},
   "outputs": [],
   "source": [
    "train['children']=train['children'].astype('int64')"
   ]
  },
  {
   "cell_type": "code",
   "execution_count": 41,
   "metadata": {},
   "outputs": [],
   "source": [
    "test['children']=test['children'].astype('int64')"
   ]
  },
  {
   "cell_type": "code",
   "execution_count": 42,
   "metadata": {},
   "outputs": [],
   "source": [
    "test['age']=test['age'].astype('int64')"
   ]
  },
  {
   "cell_type": "code",
   "execution_count": 43,
   "metadata": {},
   "outputs": [],
   "source": [
    "train['age']=train['age'].astype('int64')"
   ]
  },
  {
   "cell_type": "code",
   "execution_count": 44,
   "metadata": {},
   "outputs": [
    {
     "name": "stdout",
     "output_type": "stream",
     "text": [
      "<class 'pandas.core.frame.DataFrame'>\n",
      "Int64Index: 3102 entries, 2157 to 4105\n",
      "Data columns (total 12 columns):\n",
      "longdist    3102 non-null float64\n",
      "internat    3102 non-null float64\n",
      "local       3102 non-null float64\n",
      "int_disc    3102 non-null object\n",
      "billtype    3102 non-null object\n",
      "pay         3102 non-null object\n",
      "age         3102 non-null int64\n",
      "gender      3102 non-null object\n",
      "marital     3102 non-null object\n",
      "children    3102 non-null int64\n",
      "income      3102 non-null float64\n",
      "churn       3102 non-null object\n",
      "dtypes: float64(4), int64(2), object(6)\n",
      "memory usage: 315.0+ KB\n"
     ]
    }
   ],
   "source": [
    "train.info()"
   ]
  },
  {
   "cell_type": "code",
   "execution_count": 45,
   "metadata": {},
   "outputs": [
    {
     "name": "stdout",
     "output_type": "stream",
     "text": [
      "<class 'pandas.core.frame.DataFrame'>\n",
      "Int64Index: 1329 entries, 2 to 4430\n",
      "Data columns (total 12 columns):\n",
      "longdist    1329 non-null float64\n",
      "internat    1329 non-null float64\n",
      "local       1329 non-null float64\n",
      "int_disc    1329 non-null object\n",
      "billtype    1329 non-null object\n",
      "pay         1329 non-null object\n",
      "age         1329 non-null int64\n",
      "gender      1329 non-null object\n",
      "marital     1329 non-null object\n",
      "children    1329 non-null int64\n",
      "income      1329 non-null float64\n",
      "churn       1329 non-null object\n",
      "dtypes: float64(4), int64(2), object(6)\n",
      "memory usage: 135.0+ KB\n"
     ]
    }
   ],
   "source": [
    "test.info()"
   ]
  },
  {
   "cell_type": "code",
   "execution_count": 46,
   "metadata": {},
   "outputs": [
    {
     "name": "stdout",
     "output_type": "stream",
     "text": [
      "0    1068\n",
      "2    1053\n",
      "1     981\n",
      "Name: children, dtype: int64\n"
     ]
    }
   ],
   "source": [
    "print(train['children'].value_counts(dropna=False))"
   ]
  },
  {
   "cell_type": "code",
   "execution_count": 47,
   "metadata": {},
   "outputs": [],
   "source": [
    "bins = [-np.inf, 30, 40, 45, 92, np.inf]                             #Здесь и ниже Деление выполнено в дедакторе\n",
    "train['age'] = pd.cut(train['age'], bins)                            # с помощью конечных классов\n",
    "test['age'] = pd.cut(test['age'], bins)"
   ]
  },
  {
   "cell_type": "code",
   "execution_count": 48,
   "metadata": {},
   "outputs": [
    {
     "name": "stdout",
     "output_type": "stream",
     "text": [
      "(45.0, 92.0]    1874\n",
      "(-inf, 30.0]     474\n",
      "(30.0, 40.0]     385\n",
      "(92.0, inf]      209\n",
      "(40.0, 45.0]     160\n",
      "Name: age, dtype: int64\n"
     ]
    }
   ],
   "source": [
    "print(train['age'].value_counts(dropna=False))"
   ]
  },
  {
   "cell_type": "code",
   "execution_count": 49,
   "metadata": {},
   "outputs": [],
   "source": [
    "bins = [-np.inf,0.095, np.inf]                             \n",
    "train['internat'] = pd.cut(train['internat'], bins)        #Не увидел здесь возможности для нормализации, т.к. слишком много\n",
    "test['internat'] = pd.cut(test['internat'], bins)          #Нулевых значений"
   ]
  },
  {
   "cell_type": "code",
   "execution_count": 50,
   "metadata": {},
   "outputs": [
    {
     "name": "stdout",
     "output_type": "stream",
     "text": [
      "(-inf, 0.095]    2586\n",
      "(0.095, inf]      516\n",
      "Name: internat, dtype: int64\n"
     ]
    }
   ],
   "source": [
    "print(train['internat'].value_counts(dropna=False))"
   ]
  },
  {
   "cell_type": "code",
   "execution_count": 51,
   "metadata": {},
   "outputs": [],
   "source": [
    "bins = [-np.inf,0.7495, np.inf]                         \n",
    "train['longdist'] = pd.cut(train['longdist'], bins)        #Не увидел здесь возможности для нормализации, т.к. слишком много\n",
    "test['longdist'] = pd.cut(test['longdist'], bins)          #Нулевых значений\n",
    "#Отсутствие межгорода ведет к уходу клиента как и наличие у него звонков зарубеж"
   ]
  },
  {
   "cell_type": "code",
   "execution_count": 52,
   "metadata": {},
   "outputs": [
    {
     "name": "stdout",
     "output_type": "stream",
     "text": [
      "(0.75, inf]     2693\n",
      "(-inf, 0.75]     409\n",
      "Name: longdist, dtype: int64\n"
     ]
    }
   ],
   "source": [
    "print(train['longdist'].value_counts(dropna=False))"
   ]
  },
  {
   "cell_type": "code",
   "execution_count": 53,
   "metadata": {},
   "outputs": [],
   "source": [
    "bins = [-np.inf,27534, np.inf]                             \n",
    "train['income'] = pd.cut(train['income'], bins)        #Нормализация невозможна, т.к. переменная находится в жестких границах\n",
    "test['income'] = pd.cut(test['income'], bins)\n",
    "#разделение дохода получилось условно на до среднего класса и выше. Люди с низким доходом склонны уходить от операторов чаще."
   ]
  },
  {
   "cell_type": "code",
   "execution_count": 54,
   "metadata": {},
   "outputs": [
    {
     "name": "stdout",
     "output_type": "stream",
     "text": [
      "(27534.0, inf]     2287\n",
      "(-inf, 27534.0]     815\n",
      "Name: income, dtype: int64\n"
     ]
    }
   ],
   "source": [
    "print(train['income'].value_counts(dropna=False))"
   ]
  },
  {
   "cell_type": "code",
   "execution_count": 55,
   "metadata": {},
   "outputs": [
    {
     "name": "stderr",
     "output_type": "stream",
     "text": [
      "C:\\Users\\hafizovag\\AppData\\Local\\Continuum\\anaconda3\\lib\\site-packages\\matplotlib\\axes\\_axes.py:6462: UserWarning: The 'normed' kwarg is deprecated, and has been replaced by the 'density' kwarg.\n",
      "  warnings.warn(\"The 'normed' kwarg is deprecated, and has been \"\n"
     ]
    },
    {
     "data": {
      "image/png": "[encoded data removed]",
      "text/plain": [
       "<Figure size 432x288 with 1 Axes>"
      ]
     },
     "metadata": {},
     "output_type": "display_data"
    },
    {
     "data": {
      "image/png": "[encoded data removed]",
      "text/plain": [
       "<Figure size 432x288 with 1 Axes>"
      ]
     },
     "metadata": {},
     "output_type": "display_data"
    }
   ],
   "source": [
    "import seaborn as sns\n",
    "\n",
    "# импортируем norm и stats\n",
    "from scipy.stats import norm\n",
    "from scipy import stats\n",
    "sns.distplot(train['local'], fit=norm);           #нормальизуем длительность местных звонков\n",
    "fig = plt.figure()\n",
    "res = stats.probplot(train['local'], plot=plt)"
   ]
  },
  {
   "cell_type": "code",
   "execution_count": 56,
   "metadata": {},
   "outputs": [
    {
     "data": {
      "text/plain": [
       "2.4074034736736016"
      ]
     },
     "execution_count": 56,
     "metadata": {},
     "output_type": "execute_result"
    }
   ],
   "source": [
    "train['local'].skew()"
   ]
  },
  {
   "cell_type": "code",
   "execution_count": 57,
   "metadata": {},
   "outputs": [
    {
     "data": {
      "text/plain": [
       "8.610907194368137"
      ]
     },
     "execution_count": 57,
     "metadata": {},
     "output_type": "execute_result"
    }
   ],
   "source": [
    "train['local'].kurtosis()"
   ]
  },
  {
   "cell_type": "code",
   "execution_count": 58,
   "metadata": {},
   "outputs": [
    {
     "name": "stdout",
     "output_type": "stream",
     "text": [
      "Lambda: 0.232215\n"
     ]
    }
   ],
   "source": [
    "from scipy.stats import boxcox\n",
    "\n",
    "transformed, lam1 = boxcox(train['local'])\n",
    "\n",
    "print('Lambda: %f' % lam1)"
   ]
  },
  {
   "cell_type": "code",
   "execution_count": 59,
   "metadata": {},
   "outputs": [
    {
     "name": "stdout",
     "output_type": "stream",
     "text": [
      "Lambda: 0.263653\n"
     ]
    }
   ],
   "source": [
    "from scipy.stats import boxcox\n",
    "\n",
    "transformed, lam2 = boxcox(test['local'])\n",
    "\n",
    "print('Lambda: %f' % lam2)"
   ]
  },
  {
   "cell_type": "code",
   "execution_count": 60,
   "metadata": {},
   "outputs": [
    {
     "name": "stderr",
     "output_type": "stream",
     "text": [
      "C:\\Users\\hafizovag\\AppData\\Local\\Continuum\\anaconda3\\lib\\site-packages\\matplotlib\\axes\\_axes.py:6462: UserWarning: The 'normed' kwarg is deprecated, and has been replaced by the 'density' kwarg.\n",
      "  warnings.warn(\"The 'normed' kwarg is deprecated, and has been \"\n"
     ]
    },
    {
     "data": {
      "image/png": "[encoded data removed]",
      "text/plain": [
       "<Figure size 432x288 with 1 Axes>"
      ]
     },
     "metadata": {},
     "output_type": "display_data"
    },
    {
     "data": {
      "image/png": "[encoded data removed]",
      "text/plain": [
       "<Figure size 432x288 with 1 Axes>"
      ]
     },
     "metadata": {},
     "output_type": "display_data"
    }
   ],
   "source": [
    "sns.distplot(transformed, fit=norm);\n",
    "fig = plt.figure()\n",
    "res = stats.probplot(transformed, plot=plt)"
   ]
  },
  {
   "cell_type": "code",
   "execution_count": 61,
   "metadata": {},
   "outputs": [],
   "source": [
    "train['local']=boxcox(train['local'],lam1)"
   ]
  },
  {
   "cell_type": "code",
   "execution_count": 62,
   "metadata": {},
   "outputs": [],
   "source": [
    "test['local']=boxcox(test['local'],lam2)"
   ]
  },
  {
   "cell_type": "code",
   "execution_count": 63,
   "metadata": {
    "scrolled": true
   },
   "outputs": [
    {
     "name": "stdout",
     "output_type": "stream",
     "text": [
      "Исходные переменные:\n",
      " ['longdist', 'internat', 'local', 'int_disc', 'billtype', 'pay', 'age', 'gender', 'marital', 'children', 'income', 'churn'] \n",
      "\n",
      "Переменные после get_dummies:\n",
      " ['local', 'children', 'longdist_(-inf, 0.75]', 'longdist_(0.75, inf]', 'internat_(-inf, 0.095]', 'internat_(0.095, inf]', 'int_disc_Да', 'int_disc_Нет', 'billtype_Бесплатный', 'billtype_Бюджетный', 'pay_Auto', 'pay_CC', 'pay_CH', 'age_(-inf, 30.0]', 'age_(30.0, 40.0]', 'age_(40.0, 45.0]', 'age_(45.0, 92.0]', 'age_(92.0, inf]', 'gender_Женский', 'gender_Мужской', 'marital_Женат', 'marital_Одинокий', 'income_(-inf, 27534.0]', 'income_(27534.0, inf]', 'churn_Остается', 'churn_Уходит']\n",
      "Исходные переменные:\n",
      " ['longdist', 'internat', 'local', 'int_disc', 'billtype', 'pay', 'age', 'gender', 'marital', 'children', 'income', 'churn'] \n",
      "\n",
      "Переменные после get_dummies:\n",
      " ['local', 'children', 'longdist_(-inf, 0.75]', 'longdist_(0.75, inf]', 'internat_(-inf, 0.095]', 'internat_(0.095, inf]', 'int_disc_Да', 'int_disc_Нет', 'billtype_Бесплатный', 'billtype_Бюджетный', 'pay_Auto', 'pay_CC', 'pay_CH', 'age_(-inf, 30.0]', 'age_(30.0, 40.0]', 'age_(40.0, 45.0]', 'age_(45.0, 92.0]', 'age_(92.0, inf]', 'gender_Женский', 'gender_Мужской', 'marital_Женат', 'marital_Одинокий', 'income_(-inf, 27534.0]', 'income_(27534.0, inf]', 'churn_Остается', 'churn_Уходит']\n"
     ]
    }
   ],
   "source": [
    "# печатаем названия столбцов до и после\n",
    "# дамми-кодирования\n",
    "print(\"Исходные переменные:\\n\", list(train.columns), \"\\n\")\n",
    "train_dummies = pd.get_dummies(train)\n",
    "print(\"Переменные после get_dummies:\\n\", list(train_dummies.columns))\n",
    "\n",
    "print(\"Исходные переменные:\\n\", list(test.columns), \"\\n\")\n",
    "test_dummies = pd.get_dummies(test)\n",
    "print(\"Переменные после get_dummies:\\n\", list(test_dummies.columns))"
   ]
  },
  {
   "cell_type": "code",
   "execution_count": 64,
   "metadata": {},
   "outputs": [
    {
     "name": "stdout",
     "output_type": "stream",
     "text": [
      "<class 'pandas.core.frame.DataFrame'>\n",
      "Int64Index: 3102 entries, 2157 to 4105\n",
      "Data columns (total 26 columns):\n",
      "local                     3102 non-null float64\n",
      "children                  3102 non-null int64\n",
      "longdist_(-inf, 0.75]     3102 non-null uint8\n",
      "longdist_(0.75, inf]      3102 non-null uint8\n",
      "internat_(-inf, 0.095]    3102 non-null uint8\n",
      "internat_(0.095, inf]     3102 non-null uint8\n",
      "int_disc_Да               3102 non-null uint8\n",
      "int_disc_Нет              3102 non-null uint8\n",
      "billtype_Бесплатный       3102 non-null uint8\n",
      "billtype_Бюджетный        3102 non-null uint8\n",
      "pay_Auto                  3102 non-null uint8\n",
      "pay_CC                    3102 non-null uint8\n",
      "pay_CH                    3102 non-null uint8\n",
      "age_(-inf, 30.0]          3102 non-null uint8\n",
      "age_(30.0, 40.0]          3102 non-null uint8\n",
      "age_(40.0, 45.0]          3102 non-null uint8\n",
      "age_(45.0, 92.0]          3102 non-null uint8\n",
      "age_(92.0, inf]           3102 non-null uint8\n",
      "gender_Женский            3102 non-null uint8\n",
      "gender_Мужской            3102 non-null uint8\n",
      "marital_Женат             3102 non-null uint8\n",
      "marital_Одинокий          3102 non-null uint8\n",
      "income_(-inf, 27534.0]    3102 non-null uint8\n",
      "income_(27534.0, inf]     3102 non-null uint8\n",
      "churn_Остается            3102 non-null uint8\n",
      "churn_Уходит              3102 non-null uint8\n",
      "dtypes: float64(1), int64(1), uint8(24)\n",
      "memory usage: 145.4 KB\n"
     ]
    }
   ],
   "source": [
    "train_dummies.info()"
   ]
  },
  {
   "cell_type": "code",
   "execution_count": 65,
   "metadata": {},
   "outputs": [
    {
     "name": "stdout",
     "output_type": "stream",
     "text": [
      "<class 'pandas.core.frame.DataFrame'>\n",
      "Int64Index: 1329 entries, 2 to 4430\n",
      "Data columns (total 26 columns):\n",
      "local                     1329 non-null float64\n",
      "children                  1329 non-null int64\n",
      "longdist_(-inf, 0.75]     1329 non-null uint8\n",
      "longdist_(0.75, inf]      1329 non-null uint8\n",
      "internat_(-inf, 0.095]    1329 non-null uint8\n",
      "internat_(0.095, inf]     1329 non-null uint8\n",
      "int_disc_Да               1329 non-null uint8\n",
      "int_disc_Нет              1329 non-null uint8\n",
      "billtype_Бесплатный       1329 non-null uint8\n",
      "billtype_Бюджетный        1329 non-null uint8\n",
      "pay_Auto                  1329 non-null uint8\n",
      "pay_CC                    1329 non-null uint8\n",
      "pay_CH                    1329 non-null uint8\n",
      "age_(-inf, 30.0]          1329 non-null uint8\n",
      "age_(30.0, 40.0]          1329 non-null uint8\n",
      "age_(40.0, 45.0]          1329 non-null uint8\n",
      "age_(45.0, 92.0]          1329 non-null uint8\n",
      "age_(92.0, inf]           1329 non-null uint8\n",
      "gender_Женский            1329 non-null uint8\n",
      "gender_Мужской            1329 non-null uint8\n",
      "marital_Женат             1329 non-null uint8\n",
      "marital_Одинокий          1329 non-null uint8\n",
      "income_(-inf, 27534.0]    1329 non-null uint8\n",
      "income_(27534.0, inf]     1329 non-null uint8\n",
      "churn_Остается            1329 non-null uint8\n",
      "churn_Уходит              1329 non-null uint8\n",
      "dtypes: float64(1), int64(1), uint8(24)\n",
      "memory usage: 62.3 KB\n"
     ]
    }
   ],
   "source": [
    "test_dummies.info()"
   ]
  },
  {
   "cell_type": "code",
   "execution_count": 66,
   "metadata": {},
   "outputs": [],
   "source": [
    "# создаем обучающий и контрольный массивы меток\n",
    "y_train = train_dummies.loc[:, 'churn_Уходит']\n",
    "y_test = test_dummies.loc[:, 'churn_Уходит']"
   ]
  },
  {
   "cell_type": "code",
   "execution_count": 67,
   "metadata": {},
   "outputs": [],
   "source": [
    "# удаляем из будущих массивов признаков результаты\n",
    "# дамми-кодирования зависимой переменной -\n",
    "# TARGET_0 и TARGET_1\n",
    "train_dummies.drop(['churn_Остается', 'churn_Уходит'], axis=1, inplace=True)\n",
    "test_dummies.drop(['churn_Остается', 'churn_Уходит'], axis=1, inplace=True)"
   ]
  },
  {
   "cell_type": "code",
   "execution_count": 68,
   "metadata": {},
   "outputs": [],
   "source": [
    "#создаем обучающий и контрольный массивы признаков\n",
    "X_train = train_dummies.loc[:, 'local':'income_(27534.0, inf]']\n",
    "X_test = test_dummies.loc[:, 'local':'income_(27534.0, inf]']"
   ]
  },
  {
   "cell_type": "code",
   "execution_count": 69,
   "metadata": {},
   "outputs": [],
   "source": [
    "# импортируем класс StandardScaler\n",
    "from sklearn.preprocessing import StandardScaler\n",
    "# создаем экземпляр класса StandardScaler\n",
    "scaler = StandardScaler()"
   ]
  },
  {
   "cell_type": "code",
   "execution_count": 70,
   "metadata": {},
   "outputs": [
    {
     "data": {
      "text/plain": [
       "StandardScaler(copy=True, with_mean=True, with_std=True)"
      ]
     },
     "execution_count": 70,
     "metadata": {},
     "output_type": "execute_result"
    }
   ],
   "source": [
    "# подгоняем модель\n",
    "scaler.fit(X_train)"
   ]
  },
  {
   "cell_type": "code",
   "execution_count": 71,
   "metadata": {},
   "outputs": [],
   "source": [
    "# преобразовываем данные и по отмасштабированным данным\n",
    "# уже можно будет строить логистическую регрессию\n",
    "X_train_scaled = scaler.transform(X_train)\n",
    "X_test_scaled = scaler.transform(X_test)"
   ]
  },
  {
   "cell_type": "code",
   "execution_count": 72,
   "metadata": {},
   "outputs": [
    {
     "name": "stdout",
     "output_type": "stream",
     "text": [
      "Минимальное значение для каждого признака\n",
      "[-2.86874302 -1.20351865 -0.38971173 -2.56599924 -2.23866655 -0.44669448\n",
      " -0.67097718 -1.49036365 -0.98846115 -1.01167355 -0.49172496 -1.18360838\n",
      " -0.53385779 -0.42469436 -0.37643114 -0.23320543 -1.23533746 -0.26878122\n",
      " -0.99871134 -1.00129032 -1.1922859  -0.83872501 -0.59696067 -1.67515222]\n",
      "Максимальное значение для каждого признака\n",
      " [3.08359481 1.21521465 2.56599924 0.38971173 0.44669448 2.23866655\n",
      " 1.49036365 0.67097718 1.01167355 0.98846115 2.0336572  0.84487405\n",
      " 1.87315801 2.35463454 2.65652835 4.28806483 0.80949541 3.72049799\n",
      " 1.00129032 0.99871134 0.83872501 1.1922859  1.67515222 0.59696067]\n"
     ]
    }
   ],
   "source": [
    "print(\"Минимальное значение для каждого признака\\n{}\".format(X_train_scaled.min(axis=0)))\n",
    "print(\"Максимальное значение для каждого признака\\n {}\".format(X_train_scaled.max(axis=0)))"
   ]
  },
  {
   "cell_type": "code",
   "execution_count": 73,
   "metadata": {},
   "outputs": [
    {
     "name": "stdout",
     "output_type": "stream",
     "text": [
      "AUC на обучающей выборке: 0.893\n",
      "AUC на контрольной выборке: 0.888\n"
     ]
    }
   ],
   "source": [
    "# импортируем функцию roc_auc_score\n",
    "from sklearn.metrics import roc_auc_score\n",
    "\n",
    "# импортируем класс LogisticRegression\n",
    "from sklearn.linear_model import LogisticRegression\n",
    "\n",
    "# строим модель логистической регрессии на данных,\n",
    "# отмасштабированных с помощью RobustScaler\n",
    "logreg = LogisticRegression().fit(X_train_scaled, y_train)\n",
    "print(\"AUC на обучающей выборке: {:.3f}\".\n",
    "      format(roc_auc_score(y_train, logreg.predict_proba(X_train_scaled)[:, 1])))\n",
    "print(\"AUC на контрольной выборке: {:.3f}\".\n",
    "      format(roc_auc_score(y_test, logreg.predict_proba(X_test_scaled)[:, 1])))"
   ]
  }
 ],
 "metadata": {
  "kernelspec": {
   "display_name": "Python 3",
   "language": "python",
   "name": "python3"
  },
  "language_info": {
   "codemirror_mode": {
    "name": "ipython",
    "version": 3
   },
   "file_extension": ".py",
   "mimetype": "text/x-python",
   "name": "python",
   "nbconvert_exporter": "python",
   "pygments_lexer": "ipython3",
   "version": "3.6.5"
  }
 },
 "nbformat": 4,
 "nbformat_minor": 2
}
